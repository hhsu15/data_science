{
 "cells": [
  {
   "cell_type": "markdown",
   "metadata": {},
   "source": [
    "# Mean, Median, Mode, and introducing NumPy"
   ]
  },
  {
   "cell_type": "markdown",
   "metadata": {},
   "source": [
    "## Mean vs. Median"
   ]
  },
  {
   "cell_type": "markdown",
   "metadata": {},
   "source": [
    "Let's create some fake income data, centered around 27,000 with a normal distribution and standard deviation of 15,000, with 10,000 data points. (We'll discuss those terms more later, if you're not familiar with them.)\n",
    "\n",
    "Then, compute the mean (average) - it should be close to 27,000:"
   ]
  },
  {
   "cell_type": "code",
   "execution_count": 15,
   "metadata": {},
   "outputs": [
    {
     "name": "stdout",
     "output_type": "stream",
     "text": [
      "[20739.26397772 30989.37885592 28821.91688192 ... 14905.45115821\n",
      " 31397.99611713 17745.19755667]\n"
     ]
    },
    {
     "data": {
      "text/plain": [
       "26962.72964521405"
      ]
     },
     "execution_count": 15,
     "metadata": {},
     "output_type": "execute_result"
    }
   ],
   "source": [
    "import numpy as np\n",
    "\n",
    "incomes = np.random.normal(27000, 15000, 10000)\n",
    "print(incomes)\n",
    "np.mean(incomes)"
   ]
  },
  {
   "cell_type": "markdown",
   "metadata": {},
   "source": [
    "We can segment the income data into 50 buckets, and plot it as a histogram:"
   ]
  },
  {
   "cell_type": "code",
   "execution_count": 18,
   "metadata": {},
   "outputs": [
    {
     "data": {
      "image/png": "[encoded data removed]",
      "text/plain": [
       "<Figure size 432x288 with 1 Axes>"
      ]
     },
     "metadata": {
      "needs_background": "light"
     },
     "output_type": "display_data"
    }
   ],
   "source": [
    "%matplotlib inline\n",
    "import matplotlib.pyplot as plt\n",
    "plt.hist(incomes, 100)\n",
    "plt.show()"
   ]
  },
  {
   "cell_type": "markdown",
   "metadata": {},
   "source": [
    "Now compute the median - since we have a nice, even distribution it too should be close to 27,000:"
   ]
  },
  {
   "cell_type": "code",
   "execution_count": 3,
   "metadata": {},
   "outputs": [
    {
     "data": {
      "text/plain": [
       "27092.39320043316"
      ]
     },
     "execution_count": 3,
     "metadata": {},
     "output_type": "execute_result"
    }
   ],
   "source": [
    "np.median(incomes)"
   ]
  },
  {
   "cell_type": "markdown",
   "metadata": {},
   "source": [
    "Now we'll add Jeff Bezos into the mix. Darn income inequality!"
   ]
  },
  {
   "cell_type": "code",
   "execution_count": 4,
   "metadata": {},
   "outputs": [],
   "source": [
    "incomes = np.append(incomes, [1000000000])"
   ]
  },
  {
   "cell_type": "markdown",
   "metadata": {},
   "source": [
    "The median won't change much, but the mean does:"
   ]
  },
  {
   "cell_type": "code",
   "execution_count": 5,
   "metadata": {},
   "outputs": [
    {
     "data": {
      "text/plain": [
       "27092.571036571815"
      ]
     },
     "execution_count": 5,
     "metadata": {},
     "output_type": "execute_result"
    }
   ],
   "source": [
    "np.median(incomes)"
   ]
  },
  {
   "cell_type": "code",
   "execution_count": 6,
   "metadata": {},
   "outputs": [
    {
     "data": {
      "text/plain": [
       "126921.0284963053"
      ]
     },
     "execution_count": 6,
     "metadata": {},
     "output_type": "execute_result"
    }
   ],
   "source": [
    "np.mean(incomes)"
   ]
  },
  {
   "cell_type": "markdown",
   "metadata": {},
   "source": [
    "## Mode"
   ]
  },
  {
   "cell_type": "markdown",
   "metadata": {},
   "source": [
    "Next, let's generate some fake age data for 500 people:"
   ]
  },
  {
   "cell_type": "code",
   "execution_count": 22,
   "metadata": {},
   "outputs": [
    {
     "data": {
      "text/plain": [
       "array([62, 71, 76, 69, 46, 68, 63, 60, 24, 85, 31, 84, 33, 45, 23, 43, 73,\n",
       "       34, 24, 75, 36, 57, 54, 38, 52, 69, 78, 69, 28, 74, 72, 89, 39, 26,\n",
       "       19, 57, 40, 63, 53, 51, 43, 59, 88, 89, 36, 41, 30, 26, 70, 40, 50,\n",
       "       71, 76, 81, 62, 89, 66, 78, 66, 20, 78, 81, 67, 36, 64, 18, 71, 25,\n",
       "       78, 47, 24, 68, 77, 37, 78, 28, 53, 77, 64, 52, 82, 19, 57, 86, 27,\n",
       "       43, 86, 34, 75, 33, 25, 22, 52, 24, 65, 61, 26, 71, 29, 72, 74, 77,\n",
       "       27, 68, 75, 52, 19, 64, 19, 18, 74, 26, 54, 36, 70, 69, 27, 31, 54,\n",
       "       25, 40, 60, 54, 34, 54, 32, 25, 73, 58, 69, 66, 43, 63, 79, 54, 21,\n",
       "       64, 24, 77, 73, 88, 52, 57, 74, 41, 20, 64, 59, 28, 18, 74, 47, 18,\n",
       "       72, 55, 34, 40, 74, 84, 28, 30, 75, 34, 63, 73, 57, 26, 56, 85, 37,\n",
       "       68, 77, 27, 69, 71, 18, 29, 69, 19, 77, 70, 68, 32, 30, 21, 45, 70,\n",
       "       43, 64, 73, 42, 41, 78, 60, 27, 57, 50, 38, 86, 89, 53, 18, 88, 88,\n",
       "       62, 70, 19, 70, 53, 86, 76, 35, 67, 26, 31, 73, 74, 44, 70, 21, 46,\n",
       "       56, 47, 65, 56, 73, 51, 65, 49, 26, 74, 87, 54, 53, 63, 46, 34, 47,\n",
       "       35, 56, 85, 44, 81, 35, 29, 35, 80, 51, 59, 69, 51, 39, 57, 50, 66,\n",
       "       83, 30, 20, 89, 71, 69, 22, 37, 71, 47, 65, 81, 18, 62, 43, 64, 22,\n",
       "       43, 44, 28, 24, 49, 50, 24, 32, 54, 43, 39, 19, 18, 89, 22, 79, 87,\n",
       "       72, 58, 78, 33, 33, 42, 62, 34, 79, 73, 88, 83, 42, 28, 70, 77, 78,\n",
       "       68, 31, 79, 67, 42, 52, 61, 34, 86, 67, 87, 77, 89, 27, 51, 49, 30,\n",
       "       75, 67, 49, 20, 53, 37, 64, 79, 21, 33, 63, 86, 86, 35, 40, 39, 52,\n",
       "       31, 70, 58, 78, 31, 21, 40, 79, 62, 40, 80, 88, 49, 65, 76, 64, 46,\n",
       "       83, 47, 82, 75, 53, 42, 19, 32, 77, 33, 46, 29, 44, 25, 18, 44, 70,\n",
       "       53, 63, 57, 87, 77, 25, 21, 73, 72, 79, 64, 68, 23, 42, 85, 62, 73,\n",
       "       55, 65, 76, 66, 71, 40, 24, 64, 39, 60, 43, 43, 68, 40, 23, 26, 27,\n",
       "       85, 70, 75, 89, 50, 32, 33, 77, 36, 51, 55, 73, 61, 44, 44, 20, 57,\n",
       "       66, 57, 63, 83, 39, 74, 47, 52, 26, 74, 37, 38, 68, 39, 65, 20, 77,\n",
       "       21, 45, 80, 36, 37, 59, 82, 40, 24, 63, 75, 40, 83, 29, 71, 77, 83,\n",
       "       88, 57, 32, 52, 68, 67, 27, 45, 66, 60, 42, 81, 62, 79, 47, 65, 56,\n",
       "       30, 58, 60, 42, 41, 77, 30, 71, 58, 62, 65, 48, 79, 37, 66, 72, 47,\n",
       "       54, 47, 62, 83, 38, 39, 73])"
      ]
     },
     "execution_count": 22,
     "metadata": {},
     "output_type": "execute_result"
    }
   ],
   "source": [
    "ages = np.random.randint(low=18, high=90, size=500)\n",
    "ages"
   ]
  },
  {
   "cell_type": "code",
   "execution_count": 23,
   "metadata": {},
   "outputs": [
    {
     "data": {
      "text/plain": [
       "ModeResult(mode=array([77]), count=array([14]))"
      ]
     },
     "execution_count": 23,
     "metadata": {},
     "output_type": "execute_result"
    }
   ],
   "source": [
    "from scipy import stats\n",
    "stats.mode(ages)"
   ]
  },
  {
   "cell_type": "code",
   "execution_count": 24,
   "metadata": {},
   "outputs": [
    {
     "data": {
      "text/plain": [
       "'3.7.4 (default, Aug 13 2019, 15:17:50) \\n[Clang 4.0.1 (tags/RELEASE_401/final)]'"
      ]
     },
     "execution_count": 24,
     "metadata": {},
     "output_type": "execute_result"
    }
   ],
   "source": [
    "import sys\n",
    "sys.version"
   ]
  },
  {
   "cell_type": "code",
   "execution_count": null,
   "metadata": {},
   "outputs": [],
   "source": []
  }
 ],
 "metadata": {
  "kernelspec": {
   "display_name": "Python 3",
   "language": "python",
   "name": "python3"
  },
  "language_info": {
   "codemirror_mode": {
    "name": "ipython",
    "version": 3
   },
   "file_extension": ".py",
   "mimetype": "text/x-python",
   "name": "python",
   "nbconvert_exporter": "python",
   "pygments_lexer": "ipython3",
   "version": "3.7.4"
  }
 },
 "nbformat": 4,
 "nbformat_minor": 1
}
